{
 "cells": [
  {
   "cell_type": "markdown",
   "metadata": {},
   "source": [
    "\n# Denoising\nThis tutorial considers the classical problem of denoising of images affected\nby either random noise or salt-and-pepper noise using proximal algorithms.\n\nThe overall cost function to minimize is written in the following form:\n\n    .. math::\n        \\argmin_\\mathbf{u} \\frac{1}{2}\\|\\mathbf{u}-\\mathbf{f}\\|_2^2 +\n        \\sigma J(\\mathbf{u})\n\nwhere the L2 norm in the data term can be replaced by a L1 norm for\nsalt-and-pepper (outlier like noise).\n\nFor both examples we investigate with different choices of regularization:\n\n- L2 on Gradient $J(\\mathbf{u}) = \\|\\nabla \\mathbf{u}\\|_2^2$\n- Anisotropic TV $J(\\mathbf{u}) = \\|\\nabla \\mathbf{u}\\|_1$\n- Isotropic TV $J(\\mathbf{u}) = \\|\\nabla \\mathbf{u}\\|_{2,1}$\n"
   ]
  },
  {
   "cell_type": "code",
   "metadata": {
    "collapsed": false,
    "ExecuteTime": {
     "end_time": "2025-05-13T17:25:12.056254Z",
     "start_time": "2025-05-13T17:25:11.279840Z"
    }
   },
   "source": [
    "import numpy as np\nimport matplotlib.pyplot as plt\nimport pylops\nfrom scipy import misc\n\nimport pyproximal\n\nplt.close('all')"
   ],
   "outputs": [
    {
     "ename": "ModuleNotFoundError",
     "evalue": "No module named 'numpy'",
     "output_type": "error",
     "traceback": [
      "\u001B[0;31m---------------------------------------------------------------------------\u001B[0m",
      "\u001B[0;31mModuleNotFoundError\u001B[0m                       Traceback (most recent call last)",
      "Cell \u001B[0;32mIn[1], line 1\u001B[0m\n\u001B[0;32m----> 1\u001B[0m \u001B[38;5;28;01mimport\u001B[39;00m \u001B[38;5;21;01mnumpy\u001B[39;00m \u001B[38;5;28;01mas\u001B[39;00m \u001B[38;5;21;01mnp\u001B[39;00m\n\u001B[1;32m      2\u001B[0m \u001B[38;5;28;01mimport\u001B[39;00m \u001B[38;5;21;01mmatplotlib\u001B[39;00m\u001B[38;5;21;01m.\u001B[39;00m\u001B[38;5;21;01mpyplot\u001B[39;00m \u001B[38;5;28;01mas\u001B[39;00m \u001B[38;5;21;01mplt\u001B[39;00m\n\u001B[1;32m      3\u001B[0m \u001B[38;5;28;01mimport\u001B[39;00m \u001B[38;5;21;01mpylops\u001B[39;00m\n",
      "\u001B[0;31mModuleNotFoundError\u001B[0m: No module named 'numpy'"
     ]
    }
   ],
   "execution_count": 1
  },
  {
   "cell_type": "markdown",
   "metadata": {},
   "source": [
    "Let's start by loading a sample image and adding some noise\n\n"
   ]
  },
  {
   "cell_type": "code",
   "execution_count": null,
   "metadata": {
    "collapsed": false
   },
   "outputs": [],
   "source": [
    "# Load image\nimg = misc.ascent()\nimg = img / np.max(img)\nny, nx = img.shape\n\n# Add noise\nsigman = .2\nn = sigman * np.max(abs(img.ravel())) * np.random.uniform(-1, 1, img.shape)\nnoise_img = img + n"
   ]
  },
  {
   "cell_type": "markdown",
   "metadata": {},
   "source": [
    "We can now define a :class:`pylops.Gradient` operator that we are going to\nuse for all regularizers\n\n"
   ]
  },
  {
   "cell_type": "code",
   "execution_count": null,
   "metadata": {
    "collapsed": false
   },
   "outputs": [],
   "source": [
    "# Gradient operator\nsampling = 1.\nGop = pylops.Gradient(dims=(ny, nx), sampling=sampling, edge=False,\n                      kind='forward', dtype='float64')\nL = 8. / sampling ** 2 # maxeig(Gop^H Gop)"
   ]
  },
  {
   "cell_type": "markdown",
   "metadata": {},
   "source": [
    "We then consider the first regularization (L2 norm on Gradient). We expect\nto get a smooth image where noise is suppressed by sharp edges in the\noriginal image are however lost.\n\n"
   ]
  },
  {
   "cell_type": "code",
   "execution_count": null,
   "metadata": {
    "collapsed": false
   },
   "outputs": [],
   "source": [
    "# L2 data term\nl2 = pyproximal.L2(b=noise_img.ravel())\n\n# L2 regularization\nsigma = 2.\nthik = pyproximal.L2(sigma=sigma)\n\n# Solve\ntau = 1.\nmu = 1. / (tau*L)\n\niml2 = pyproximal.optimization.primal.LinearizedADMM(l2, thik,\n                                                     Gop, tau=tau,\n                                                     mu=mu,\n                                                     x0=np.zeros_like(img.ravel()),\n                                                     niter=100)[0]\niml2 = iml2.reshape(img.shape)"
   ]
  },
  {
   "cell_type": "markdown",
   "metadata": {},
   "source": [
    "Let's try now to use TV regularization, both anisotropic and isotropic\n\n"
   ]
  },
  {
   "cell_type": "code",
   "execution_count": null,
   "metadata": {
    "collapsed": false
   },
   "outputs": [],
   "source": [
    "# L2 data term\nl2 = pyproximal.L2(b=noise_img.ravel())\n\n# Anisotropic TV\nsigma = .1\nl1 = pyproximal.L1(sigma=sigma)\n\n# Solve\ntau = 1.\nmu = tau / L\n\niml1 = pyproximal.optimization.primal.LinearizedADMM(l2, l1, Gop, tau=tau,\n                                                     mu=mu, x0=np.zeros_like(img.ravel()),\n                                                     niter=100)[0]\niml1 = iml1.reshape(img.shape)\n\n\n# Isotropic TV with Proximal Gradient\nsigma = .1\ntv = pyproximal.TV(dims=img.shape, sigma=sigma)\n\n# Solve\ntau = 1 / L\n\nimtv = pyproximal.optimization.primal.ProximalGradient(l2, tv, tau=tau, x0=np.zeros_like(img.ravel()),\n                                                       niter=100)\nimtv = imtv.reshape(img.shape)\n\n# Isotropic TV with Primal Dual\nsigma = .1\nl1iso = pyproximal.L21(ndim=2, sigma=sigma)\n\n# Solve\ntau = 1 / np.sqrt(L)\nmu = 1. / (tau*L)\n\niml12 = pyproximal.optimization.primaldual.PrimalDual(l2, l1iso, Gop,\n                                                      tau=tau, mu=mu, theta=1.,\n                                                      x0=np.zeros_like(img.ravel()),\n                                                      niter=100)\niml12 = iml12.reshape(img.shape)\n\nfig, axs = plt.subplots(1, 5, figsize=(14, 4))\naxs[0].imshow(img, cmap='gray', vmin=0, vmax=1)\naxs[0].set_title('Original')\naxs[0].axis('off')\naxs[0].axis('tight')\naxs[1].imshow(noise_img, cmap='gray', vmin=0, vmax=1)\naxs[1].set_title('Noisy')\naxs[1].axis('off')\naxs[1].axis('tight')\naxs[2].imshow(iml1, cmap='gray', vmin=0, vmax=1)\naxs[2].set_title('TVaniso')\naxs[2].axis('off')\naxs[2].axis('tight')\naxs[3].imshow(imtv, cmap='gray', vmin=0, vmax=1)\naxs[3].set_title('TViso (with ProxGrad)')\naxs[3].axis('off')\naxs[3].axis('tight')\naxs[4].imshow(iml12, cmap='gray', vmin=0, vmax=1)\naxs[4].set_title('TViso (with PD)')\naxs[4].axis('off')\naxs[4].axis('tight')\nplt.tight_layout()"
   ]
  },
  {
   "cell_type": "markdown",
   "metadata": {},
   "source": [
    "Finally we consider an example where the original image is corrupted by\nsalt-and-pepper noise.\n\n"
   ]
  },
  {
   "cell_type": "code",
   "execution_count": null,
   "metadata": {
    "collapsed": false
   },
   "outputs": [],
   "source": [
    "# Add salt and pepper noise\nnoiseperc = .1\n\nisalt = np.random.permutation(np.arange(ny*nx))[:int(noiseperc*ny*nx)]\nipepper = np.random.permutation(np.arange(ny*nx))[:int(noiseperc*ny*nx)]\nnoise_img = img.copy().ravel()\nnoise_img[isalt] = img.max()\nnoise_img[ipepper] = img.min()\nnoise_img = noise_img.reshape(ny, nx)"
   ]
  },
  {
   "cell_type": "markdown",
   "metadata": {},
   "source": [
    "Here we compare L2 and L1 norms for the data term\nL2 data term\n\n"
   ]
  },
  {
   "cell_type": "code",
   "execution_count": null,
   "metadata": {
    "collapsed": false
   },
   "outputs": [],
   "source": [
    "l2 = pyproximal.L2(b=noise_img.ravel())\n\n# L1 regularization (isotropic TV)\nsigma = .2\nl1iso = pyproximal.L21(ndim=2, sigma=sigma)\n\n# Solve\ntau = .1\nmu = 1. / (tau*L)\n\niml12_l2 = pyproximal.optimization.primaldual.PrimalDual(l2, l1iso, Gop,\n                                                         tau=tau, mu=mu, theta=1.,\n                                                         x0=np.zeros_like(noise_img).ravel(),\n                                                         niter=100, show=True)\niml12_l2 = iml12_l2.reshape(img.shape)\n\n\n# L1 data term\nl1 = pyproximal.L1(g=noise_img.ravel())\n\n# L1 regularization (isotropic TV)\nsigma = .7\nl1iso = pyproximal.L21(ndim=2, sigma=sigma)\n\n# Solve\ntau = 1.\nmu = 1. / (tau*L)\n\niml12_l1 = pyproximal.optimization.primaldual.PrimalDual(l1, l1iso, Gop,\n                                                         tau=tau, mu=mu, theta=1.,\n                                                         x0=np.zeros_like(noise_img).ravel(),\n                                                         niter=100, show=True)\niml12_l1 = iml12_l1.reshape(img.shape)\n\nfig, axs = plt.subplots(2, 2, figsize=(14, 14))\naxs[0][0].imshow(img, cmap='gray', vmin=0, vmax=1)\naxs[0][0].set_title('Original')\naxs[0][0].axis('off')\naxs[0][0].axis('tight')\naxs[0][1].imshow(noise_img, cmap='gray', vmin=0, vmax=1)\naxs[0][1].set_title('Noisy')\naxs[0][1].axis('off')\naxs[0][1].axis('tight')\naxs[1][0].imshow(iml12_l2, cmap='gray', vmin=0, vmax=1)\naxs[1][0].set_title('L2data + TViso')\naxs[1][0].axis('off')\naxs[1][0].axis('tight')\naxs[1][1].imshow(iml12_l1, cmap='gray', vmin=0, vmax=1)\naxs[1][1].set_title('L1data + TViso')\naxs[1][1].axis('off')\naxs[1][1].axis('tight')\nplt.tight_layout()"
   ]
  }
 ],
 "metadata": {
  "kernelspec": {
   "display_name": "Python 3",
   "language": "python",
   "name": "python3"
  },
  "language_info": {
   "codemirror_mode": {
    "name": "ipython",
    "version": 3
   },
   "file_extension": ".py",
   "mimetype": "text/x-python",
   "name": "python",
   "nbconvert_exporter": "python",
   "pygments_lexer": "ipython3",
   "version": "3.9.20"
  }
 },
 "nbformat": 4,
 "nbformat_minor": 0
}
