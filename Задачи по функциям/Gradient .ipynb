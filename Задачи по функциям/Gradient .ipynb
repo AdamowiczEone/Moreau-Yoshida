{
 "cells": [
  {
   "cell_type": "code",
   "execution_count": null,
   "id": "f079d86b",
   "metadata": {},
   "outputs": [
    {
     "name": "stdout",
     "output_type": "stream",
     "text": [
      "(4.000000000026205, 6.000000000039306)\n"
     ]
    }
   ],
   "source": [
    "def gradient(f, point, h=0.00001):\n",
    "    df_dx_plus = f(point[0] + h, point[1])\n",
    "    df_dx_minus = f(point[0] - h, point[1])\n",
    "    \n",
    "    df_dy_plus = f(point[0], point[1] + h)\n",
    "    df_dy_minus = f(point[0], point[1] - h)\n",
    "    \n",
    "    df_dx = (df_dx_plus - df_dx_minus) / (2*h)\n",
    "    df_dy = (df_dy_plus - df_dy_minus) / (2*h)\n",
    "    \n",
    "    return df_dx, df_dy\n",
    "\n",
    "\n",
    "def func(x, y):\n",
    "    return x**2 + y**2\n",
    "\n",
    "\n",
    "result = gradient(func, (2, 3))\n",
    "print(result)"
   ]
  },
  {
   "cell_type": "code",
   "execution_count": 39,
   "id": "cd63b7d1",
   "metadata": {},
   "outputs": [
    {
     "name": "stdout",
     "output_type": "stream",
     "text": [
      "0.0\n"
     ]
    }
   ],
   "source": [
    "# ^F = dFy_dx - dFx_dy\n",
    "def func_2(x, y):\n",
    "    return -3*x**2, 3*y\n",
    "\n",
    "def rotor(F, point, h=0.00001):\n",
    "    df_dx_plus = F(point[0] + h, point[1])\n",
    "    df_dx_minus = F(point[0] - h, point[1])\n",
    "    \n",
    "    df_dy_plus = F(point[0], point[1] + h)\n",
    "    df_dy_minus = F(point[0], point[1] - h)\n",
    "    \n",
    "    dF1_dx = (df_dx_plus[0] - df_dx_minus[0]) / (2 * h)\n",
    "    dF2_dx = (df_dx_plus[1] - df_dx_minus[1]) / (2 * h)\n",
    "\n",
    "    dF1_dy = (df_dy_plus[0] - df_dy_minus[0]) / (2 * h)\n",
    "    dF2_dy = (df_dy_plus[1] - df_dy_minus[1]) / (2 * h)\n",
    "    \n",
    "    return (dF2_dx - dF1_dy)\n",
    "\n",
    "r = rotor(func_2, (2, 3))\n",
    "print(r)"
   ]
  },
  {
   "cell_type": "code",
   "execution_count": 40,
   "id": "7c039023",
   "metadata": {},
   "outputs": [
    {
     "name": "stdout",
     "output_type": "stream",
     "text": [
      "-14.999999999965041\n"
     ]
    }
   ],
   "source": [
    "# ^F = dFy_dx - dFx_dy\n",
    "def func_2(x, y):\n",
    "    return -3*y**2, 3*x\n",
    "\n",
    "def divergent(F, point, h=0.00001):\n",
    "    df_dx_plus = F(point[0] + h, point[1])\n",
    "    df_dx_minus = F(point[0] - h, point[1])\n",
    "    \n",
    "    df_dy_plus = F(point[0], point[1] + h)\n",
    "    df_dy_minus = F(point[0], point[1] - h)\n",
    "    \n",
    "    dF2_dx = (df_dx_plus[1] - df_dx_minus[1]) / (2 * h)\n",
    "    \n",
    "    dF1_dy = (df_dy_plus[0] - df_dy_minus[0]) / (2 * h)\n",
    "    \n",
    "    return (dF2_dx + dF1_dy)\n",
    "\n",
    "r = divergent(func_2, (2, 3))\n",
    "print(r)"
   ]
  }
 ],
 "metadata": {
  "kernelspec": {
   "display_name": "Python 3",
   "language": "python",
   "name": "python3"
  },
  "language_info": {
   "codemirror_mode": {
    "name": "ipython",
    "version": 3
   },
   "file_extension": ".py",
   "mimetype": "text/x-python",
   "name": "python",
   "nbconvert_exporter": "python",
   "pygments_lexer": "ipython3",
   "version": "3.10.2"
  }
 },
 "nbformat": 4,
 "nbformat_minor": 5
}
